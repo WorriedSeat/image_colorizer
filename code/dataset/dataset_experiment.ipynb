{
 "cells": [
  {
   "cell_type": "code",
   "execution_count": 1,
   "id": "9c42d86a",
   "metadata": {},
   "outputs": [],
   "source": [
    "import os\n",
    "import requests\n",
    "import zipfile\n",
    "import tarfile\n",
    "from PIL import Image\n",
    "import cv2\n",
    "import numpy as np\n",
    "import random\n",
    "import csv\n",
    "from tqdm import tqdm\n",
    "from typing import Literal, List\n",
    "import shutil"
   ]
  },
  {
   "cell_type": "code",
   "execution_count": 2,
   "id": "0eaee2eb",
   "metadata": {},
   "outputs": [],
   "source": [
    "def move_to_root(display:bool):\n",
    "    for folder in os.getcwd().split('/')[::-1]:\n",
    "        if folder != 'image_colorizer':\n",
    "            os.chdir('..')\n",
    "        else:\n",
    "            if display:\n",
    "                print(f\"Moved to root directory of the project:{os.getcwd()}\")\n",
    "            return\n",
    "    raise NameError(\"Can not move to root of the project(Check the name of the project)\")"
   ]
  },
  {
   "cell_type": "code",
   "execution_count": 3,
   "id": "f9406c7f",
   "metadata": {},
   "outputs": [],
   "source": [
    "class dataset_downloader():\n",
    "    def __init__(self, data_format:Literal[\"rgb\", \"tif\", \"both\"]=\"rgb\"):\n",
    "        self.datasets_info = {}\n",
    "\n",
    "        if data_format == 'both':\n",
    "            self.datasets_info['rgb'] = ('https://zenodo.org/records/7711810/files/EuroSAT_RGB.zip?download=1', 'EuroSAT_RGB.zip')\n",
    "            self.datasets_info['tif'] = ('https://zenodo.org/records/7711810/files/EuroSAT_MS.zip?download=1', 'EuroSAT_MS.zip')\n",
    "        elif data_format == 'rgb':\n",
    "            self.datasets_info['rgb'] = ('https://zenodo.org/records/7711810/files/EuroSAT_RGB.zip?download=1', 'EuroSAT_RGB.zip')\n",
    "        elif data_format == 'tif':\n",
    "            self.datasets_info['tif'] = ('https://zenodo.org/records/7711810/files/EuroSAT_MS.zip?download=1', 'EuroSAT_MS.zip')\n",
    "    \n",
    "    def _move_to_raw(self):\n",
    "        #Move to root of the project\n",
    "        move_to_root(display=False)\n",
    "\n",
    "        #Create and change the currntly working direcory\n",
    "        os.makedirs('data/raw', exist_ok=True)\n",
    "        os.chdir('data/raw')\n",
    "        print(f\"Moved to {os.getcwd()}\")\n",
    "    \n",
    "    def download_zip(self):\n",
    "        #Move to data/raw\n",
    "        self._move_to_raw()\n",
    "        \n",
    "        print(\"Downloading EuroSAT dataset...\")\n",
    "        \n",
    "        for data_format in self.datasets_info.keys():\n",
    "\n",
    "            dataset_url, dataset_zip = self.datasets_info[data_format]\n",
    "\n",
    "            if not os.path.exists(dataset_zip):\n",
    "                response = requests.get(dataset_url, stream=True)\n",
    "                total_size = int(response.headers.get('content-length', 0))\n",
    "\n",
    "                with open(dataset_zip, 'wb') as file, tqdm(\n",
    "                    desc=f\"Downloading {dataset_zip}\",\n",
    "                    total=total_size,\n",
    "                    unit='iB',\n",
    "                    unit_scale=True,\n",
    "                    unit_divisor=1024,\n",
    "                ) as bar:\n",
    "                    for data in response.iter_content(chunk_size=1024):\n",
    "                        size = file.write(data)\n",
    "                        bar.update(size)\n",
    "                        \n",
    "    def unzip(self):\n",
    "        #Move to data/raw\n",
    "        self._move_to_raw()\n",
    "        \n",
    "        for data_format in self.datasets_info.keys():\n",
    "            \n",
    "            _, dataset_zip = self.datasets_info[data_format]\n",
    "            \n",
    "            if not os.path.exists(dataset_zip[:-4]):\n",
    "                print(f\"Extracting files from {dataset_zip}\") \n",
    "                \n",
    "                with zipfile.ZipFile(dataset_zip, 'r') as zip_ref:\n",
    "                    zip_ref.extractall('.')\n",
    "    \n",
    "    def create_prep_rgb(self):\n",
    "        \n",
    "        #Moving to root\n",
    "        move_to_root(display=False)\n",
    "        \n",
    "        #Creating folders\n",
    "        folder_name = self.datasets_info['rgb'][1][:-4]\n",
    "        prep_data_folder = f'data/prep/{folder_name}' #Folder for storing all preprocessed data\n",
    "        images_folder = f'{prep_data_folder}/images' #Folder for storing images\n",
    "        os.makedirs(images_folder, exist_ok=True)\n",
    "        \n",
    "        #Iterating through raw pictures -> [{src_path:..., file_name: ..., original_class: ...}]\n",
    "        print(f\"Creating preprocessed dataset in {prep_data_folder}...\")\n",
    "        all_image_info: List[dict] = []\n",
    "        raw_folder = f'data/raw/{folder_name}'\n",
    "        for subdir, _, files in os.walk(raw_folder):\n",
    "            class_name = os.path.basename(subdir)\n",
    "            for file in files:\n",
    "                if file.lower().endswith(('.jpg', '.jpeg')):\n",
    "                    all_image_info.append({\n",
    "                        'src_path': os.path.join(subdir, file),  # data/raw/class/file_name\n",
    "                        'file_name': file,\n",
    "                        'original_class': class_name if class_name != folder_name else 'unknown'\n",
    "                    })\n",
    "        print(f\"Found {len(all_image_info)} images!\")\n",
    "        \n",
    "        #Shuffling the images\n",
    "        random.shuffle(all_image_info)\n",
    "        print(\"Shuffled images!\")        \n",
    "        \n",
    "        #Copying shuffled images to data/prep/EuroSAT_RGB/images\n",
    "        for i, info in tqdm(enumerate(all_image_info, 1), total=len(all_image_info), desc=\"Transferring shuffled images\"):\n",
    "            src_path = os.path.abspath(info['src_path'])\n",
    "            dst_path = os.path.join(images_folder, info['file_name'])\n",
    "            shutil.copy2(src_path, dst_path)\n",
    "        \n",
    "        #Creating csv with image info in data/prep/EuroSAT_RGB\n",
    "        print(\"Creating image_info.csv\")\n",
    "        csv_path = f'{prep_data_folder}/image_info.csv'\n",
    "        with open(csv_path, 'w', newline='') as csvfile:\n",
    "            fieldnames = ['file_name', 'full_path', 'original_class']\n",
    "            writer = csv.DictWriter(csvfile, fieldnames=fieldnames)\n",
    "            writer.writeheader()\n",
    "            for info in all_image_info:\n",
    "                full_path = os.path.join(images_folder, info['file_name'])\n",
    "                writer.writerow({\n",
    "                    'file_name': info['file_name'],\n",
    "                    'full_path': full_path,\n",
    "                    'original_class': info['original_class']\n",
    "                })\n",
    "        \n",
    "        print(\"Data preprocessed finished in data/prep/EuroSAT_RGB\")\n",
    "        \n",
    "    def execute_data_pipeline(self, save_zip:bool=True, save_raw:bool=True):\n",
    "        self.download_zip()\n",
    "        self.unzip()\n",
    "        self.create_prep_rgb()\n",
    "        \n",
    "        self._move_to_raw()\n",
    "        if not save_zip:\n",
    "            for data_format in self.datasets_info.keys():\n",
    "                zip_file = self.datasets_info[data_format][1]\n",
    "                if os.path.exists(zip_file):\n",
    "                    os.remove(zip_file)\n",
    "                    print(f\"Removed {zip_file}\")\n",
    "        if not save_raw:\n",
    "            for data_format in self.datasets_info.keys():\n",
    "                folder_name = self.datasets_info[data_format][1][:-4]\n",
    "                if os.path.exists(folder_name):\n",
    "                    shutil.rmtree(folder_name)\n",
    "                    print(f\"Removed raw {folder_name}\")    "
   ]
  },
  {
   "cell_type": "code",
   "execution_count": 4,
   "id": "88e25525",
   "metadata": {},
   "outputs": [
    {
     "name": "stdout",
     "output_type": "stream",
     "text": [
      "Moved to /home/vanishhhed/Desktop/codics/PythonCodics/ML/image_colorizer/data/raw\n",
      "Downloading EuroSAT dataset...\n"
     ]
    },
    {
     "name": "stderr",
     "output_type": "stream",
     "text": [
      "Downloading EuroSAT_RGB.zip: 100%|██████████| 90.3M/90.3M [01:06<00:00, 1.42MiB/s]\n"
     ]
    },
    {
     "name": "stdout",
     "output_type": "stream",
     "text": [
      "Moved to /home/vanishhhed/Desktop/codics/PythonCodics/ML/image_colorizer/data/raw\n",
      "Extracting files from EuroSAT_RGB.zip\n",
      "Creating preprocessed dataset in data/prep/EuroSAT_RGB...\n",
      "Found 27000 images!\n",
      "Shuffled images!\n"
     ]
    },
    {
     "name": "stderr",
     "output_type": "stream",
     "text": [
      "Transferring shuffled images: 100%|██████████| 27000/27000 [00:02<00:00, 13001.66it/s]\n"
     ]
    },
    {
     "name": "stdout",
     "output_type": "stream",
     "text": [
      "Creating image_info.csv\n",
      "Data preprocessed finished in data/prep/EuroSAT_RGB\n",
      "Moved to /home/vanishhhed/Desktop/codics/PythonCodics/ML/image_colorizer/data/raw\n",
      "Removed EuroSAT_RGB.zip\n",
      "Removed raw EuroSAT_RGB\n"
     ]
    }
   ],
   "source": [
    "downloader = dataset_downloader()\n",
    "# print(os.getcwd())\n",
    "downloader.execute_data_pipeline(save_zip=False, save_raw=False)\n"
   ]
  },
  {
   "cell_type": "code",
   "execution_count": null,
   "id": "99e6b82b",
   "metadata": {},
   "outputs": [],
   "source": []
  }
 ],
 "metadata": {
  "kernelspec": {
   "display_name": "ML_Ops",
   "language": "python",
   "name": "python3"
  },
  "language_info": {
   "codemirror_mode": {
    "name": "ipython",
    "version": 3
   },
   "file_extension": ".py",
   "mimetype": "text/x-python",
   "name": "python",
   "nbconvert_exporter": "python",
   "pygments_lexer": "ipython3",
   "version": "3.12.9"
  }
 },
 "nbformat": 4,
 "nbformat_minor": 5
}
