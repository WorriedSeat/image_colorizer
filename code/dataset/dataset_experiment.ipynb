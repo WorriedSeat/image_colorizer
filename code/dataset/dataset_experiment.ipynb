{
 "cells": [
  {
   "cell_type": "code",
   "execution_count": null,
   "id": "168699ac",
   "metadata": {},
   "outputs": [],
   "source": [
    "import os\n",
    "import urllib.request\n",
    "import zipfile\n",
    "\n",
    "# Create directory\n",
    "os.makedirs('coco_subset', exist_ok=True)\n",
    "os.chdir('coco_subset')\n",
    "\n",
    "# Download annotations (instances_val2017.json contains bbox annotations but no masks; we use it for image IDs)\n",
    "ann_url = 'http://images.cocodataset.org/annotations/annotations_trainval2017.zip'\n",
    "ann_zip = 'annotations_trainval2017.zip'\n",
    "if not os.path.exists(ann_zip):\n",
    "    urllib.request.urlretrieve(ann_url, ann_zip)\n",
    "with zipfile.ZipFile(ann_zip, 'r') as zip_ref:\n",
    "    zip_ref.extractall('.')  # Extracts to annotations/instances_val2017.json\n",
    "os.remove(ann_zip)  # Clean up zip\n",
    "\n",
    "# Download val2017 images\n",
    "img_url = 'http://images.cocodataset.org/zips/val2017.zip'\n",
    "img_zip = 'val2017.zip'\n",
    "if not os.path.exists(img_zip):\n",
    "    urllib.request.urlretrieve(img_url, img_zip)\n",
    "with zipfile.ZipFile(img_zip, 'r') as zip_ref:\n",
    "    zip_ref.extractall('.')  # Extracts to val2017/ directory\n",
    "os.remove(img_zip)  # Clean up zip"
   ]
  },
  {
   "cell_type": "code",
   "execution_count": null,
   "id": "4635622a",
   "metadata": {},
   "outputs": [],
   "source": [
    "from pycocotools.coco import COCO\n",
    "import cv2\n",
    "import os\n",
    "from PIL import Image\n",
    "import numpy as np\n",
    "from tqdm import tqdm\n",
    "\n",
    "# Paths\n",
    "ann_file = 'annotations/instances_val2017.json'\n",
    "coco = COCO(ann_file)\n",
    "img_dir = 'val2017'\n",
    "output_dir = 'new_dataset'\n",
    "os.makedirs(output_dir, exist_ok=True)\n",
    "\n",
    "# Get all image IDs from val2017 (no category filtering; all ~5K images)\n",
    "img_ids = coco.getImgIds()  # Or slice for smaller subset: img_ids = img_ids[:100]\n",
    "images = coco.loadImgs(img_ids)\n",
    "\n",
    "for img_info in tqdm(images, desc=\"Processing images\"):\n",
    "    img_path = os.path.join(img_dir, img_info['file_name'])\n",
    "    \n",
    "    # Load colored image (label)\n",
    "    colored = cv2.imread(img_path)\n",
    "    colored_rgb = cv2.cvtColor(colored, cv2.COLOR_BGR2RGB)  # To RGB for consistency\n",
    "    \n",
    "    # Convert to grayscale (B/W input)\n",
    "    gray = cv2.cvtColor(colored, cv2.COLOR_BGR2GRAY)\n",
    "    # Expand gray to 3-channel for saving as JPG (all channels identical)\n",
    "    gray_3ch = cv2.cvtColor(gray, cv2.COLOR_GRAY2RGB)\n",
    "    \n",
    "    # Save input (B/W) and label (colored)\n",
    "    base_name = os.path.splitext(img_info['file_name'])[0]\n",
    "    cv2.imwrite(os.path.join(output_dir, f'input_{base_name}.jpg'), gray_3ch)\n",
    "    cv2.imwrite(os.path.join(output_dir, f'label_{base_name}.jpg'), colored_rgb)\n",
    "\n",
    "print(f\"Dataset created in {output_dir}/ with {len(images)} pairs.\")"
   ]
  }
 ],
 "metadata": {
  "kernelspec": {
   "display_name": ".venv",
   "language": "python",
   "name": "python3"
  },
  "language_info": {
   "codemirror_mode": {
    "name": "ipython",
    "version": 3
   },
   "file_extension": ".py",
   "mimetype": "text/x-python",
   "name": "python",
   "nbconvert_exporter": "python",
   "pygments_lexer": "ipython3",
   "version": "3.13.7"
  }
 },
 "nbformat": 4,
 "nbformat_minor": 5
}
