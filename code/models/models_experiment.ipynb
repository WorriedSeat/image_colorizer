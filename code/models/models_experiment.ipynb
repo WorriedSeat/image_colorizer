{
 "cells": [
  {
   "cell_type": "code",
   "execution_count": 2,
   "id": "076db072",
   "metadata": {},
   "outputs": [],
   "source": [
    "import os\n",
    "from pathlib import Path\n",
    "import numpy as np\n",
    "import pandas as pd\n",
    "import cv2\n",
    "import matplotlib.pyplot as plt\n",
    "from tqdm import tqdm"
   ]
  },
  {
   "cell_type": "markdown",
   "id": "77025287",
   "metadata": {},
   "source": [
    "We have get the results of sota solution DeOldify and need to see some metrics"
   ]
  },
  {
   "cell_type": "code",
   "execution_count": 3,
   "id": "e1c4b5f4",
   "metadata": {},
   "outputs": [
    {
     "name": "stdout",
     "output_type": "stream",
     "text": [
      "Setting up [LPIPS] perceptual loss: trunk [vgg], v[0.1], spatial [off]\n"
     ]
    },
    {
     "name": "stderr",
     "output_type": "stream",
     "text": [
      "/home/vanishhhed/.pyenv/versions/ML_Ops/lib/python3.12/site-packages/torchvision/models/_utils.py:208: UserWarning: The parameter 'pretrained' is deprecated since 0.13 and may be removed in the future, please use 'weights' instead.\n",
      "  warnings.warn(\n",
      "/home/vanishhhed/.pyenv/versions/ML_Ops/lib/python3.12/site-packages/torchvision/models/_utils.py:223: UserWarning: Arguments other than a weight enum or `None` for 'weights' are deprecated since 0.13 and may be removed in the future. The current behavior is equivalent to passing `weights=VGG16_Weights.IMAGENET1K_V1`. You can also use `weights=VGG16_Weights.DEFAULT` to get the most up-to-date weights.\n",
      "  warnings.warn(msg)\n"
     ]
    },
    {
     "name": "stdout",
     "output_type": "stream",
     "text": [
      "Loading model from: /home/vanishhhed/.pyenv/versions/ML_Ops/lib/python3.12/site-packages/lpips/weights/v0.1/vgg.pth\n"
     ]
    }
   ],
   "source": [
    "from skimage.metrics import peak_signal_noise_ratio as psnr, structural_similarity as ssim\n",
    "import lpips\n",
    "\n",
    "def compute_metrics(label, prediction, data_range=255.0, lpips_f=lpips.LPIPS(net='vgg')):\n",
    "    \n",
    "    # Checking the shape\n",
    "    if label.shape != prediction.shape:\n",
    "        raise ValueError(f\"Label shape({label.shape}) is incompatible with predicted shape({prediction.shape})\")\n",
    "    \n",
    "    # Normalizing the images\n",
    "    label_norm = label / data_range\n",
    "    prediction_norm = prediction / data_range\n",
    "    \n",
    "    # PSNR metric\n",
    "    psnr_val = psnr(label_norm, prediction_norm, data_range=data_range)\n",
    "    \n",
    "    #SSIM metric\n",
    "    ssim_val = ssim(label_norm, prediction_norm, multichannel=True, channel_axis=-1, data_range=data_range)\n",
    "    \n",
    "    #LPIPS metric\n",
    "    label_tensor = lpips.im2tensor(label_norm)\n",
    "    prediction_tensor = lpips.im2tensor(prediction_norm)\n",
    "    lpips_val = lpips_f(label_tensor, prediction_tensor).item()\n",
    "    \n",
    "    \n",
    "    # np.array([psnr_val, ssim_val, lpips_val])\n",
    "    return {\n",
    "        'PSNR': psnr_val,\n",
    "        'SSIM': ssim_val,\n",
    "        'LPIPS': lpips_val\n",
    "    }"
   ]
  },
  {
   "cell_type": "code",
   "execution_count": null,
   "id": "cc091805",
   "metadata": {},
   "outputs": [
    {
     "name": "stderr",
     "output_type": "stream",
     "text": [
      "Getting the result metrics of DeOldify:   2%|▏         | 99/5000 [03:10<2:37:00,  1.92s/it]"
     ]
    },
    {
     "name": "stdout",
     "output_type": "stream",
     "text": [
      "       000000120584.jpg  000000501243.jpg  000000229601.jpg  000000448410.jpg  \\\n",
      "PSNR          68.674506         72.025455         64.432657         70.095148   \n",
      "SSIM           0.998759          0.999539          0.996869          0.999270   \n",
      "LPIPS          0.000109          0.000201          0.000356          0.000302   \n",
      "\n",
      "       000000087875.jpg  000000044652.jpg  000000446005.jpg  000000521052.jpg  \\\n",
      "PSNR          66.372696         71.363640         73.565233         72.742883   \n",
      "SSIM           0.997994          0.999325          0.999667          0.999664   \n",
      "LPIPS          0.000251          0.000030          0.000092          0.000113   \n",
      "\n",
      "       000000421757.jpg  000000013291.jpg  ...  000000015660.jpg  \\\n",
      "PSNR          76.898644         69.868542  ...         73.273052   \n",
      "SSIM           0.999864          0.999265  ...          0.999766   \n",
      "LPIPS          0.000045          0.000489  ...          0.000271   \n",
      "\n",
      "       000000274219.jpg  000000574810.jpg  000000031817.jpg  000000482800.jpg  \\\n",
      "PSNR          76.165511         75.563353         68.682107         72.665085   \n",
      "SSIM           0.999802          0.999782          0.998954          0.999722   \n",
      "LPIPS          0.000026          0.000041          0.000350          0.000173   \n",
      "\n",
      "       000000469067.jpg  000000250127.jpg  000000140270.jpg  000000189752.jpg  \\\n",
      "PSNR          77.839243         68.830034         71.151812         71.979960   \n",
      "SSIM           0.999892          0.998922          0.999394          0.999528   \n",
      "LPIPS          0.000057          0.000439          0.000232          0.000308   \n",
      "\n",
      "       000000261706.jpg  \n",
      "PSNR          75.795216  \n",
      "SSIM           0.999859  \n",
      "LPIPS          0.000043  \n",
      "\n",
      "[3 rows x 100 columns]\n"
     ]
    },
    {
     "name": "stderr",
     "output_type": "stream",
     "text": [
      "\n"
     ]
    }
   ],
   "source": [
    "# The results are in DeOldify_preds\n",
    "if os.getcwd().split('/')[-1] != 'coco_subset':\n",
    "    os.chdir('../dataset/coco_subset')\n",
    "\n",
    "# print(os.getcwd())\n",
    "\n",
    "file_names = [str(f).split('/')[1] for f in Path('val2017').glob('*.jpg')] #TODO после того как поменяется путь сохранения данных поменять на labels или inputs\n",
    "\n",
    "results = {}\n",
    "\n",
    "for file_name in tqdm(file_names, desc='Getting the result metrics of DeOldify'):\n",
    "    # TODO change the name of the file after change in dataset_experiments\n",
    "    try:\n",
    "        label = cv2.imread('val2017/'+file_name) # TODO 'label/label_' + file_name\n",
    "        colored = cv2.imread('DeOldify_preds/colored_input_' + file_name)\n",
    "        \n",
    "        # print(f\"Label:\\n\\ttype: {type(label)}\\t shape: {label.shape}\\t values: {np.unique_values(label)[0]}->{np.unique_values(label)[-1]}\")\n",
    "        # print(f\"Prediction:\\n\\ttype: {type(colored)}\\t shape: {colored.shape}\\t values: {np.unique_values(colored)[0]}->{np.unique_values(colored)[-1]}\")\n",
    "        \n",
    "        results[file_name] = compute_metrics(label, colored)\n",
    "        \n",
    "    except Exception as e:\n",
    "        print(f\"ERROR: Exception: {e}\\n in getting file:{file_name}\")\n",
    "\n",
    "results = pd.DataFrame(results)\n",
    "print(results)"
   ]
  },
  {
   "cell_type": "code",
   "execution_count": 14,
   "id": "441e377d",
   "metadata": {},
   "outputs": [
    {
     "name": "stdout",
     "output_type": "stream",
     "text": [
      "             PSNR        SSIM       LPIPS\n",
      "count  100.000000  100.000000  100.000000\n",
      "mean    71.873586    0.999308    0.000245\n",
      "std      3.309040    0.000738    0.000261\n",
      "min     63.395233    0.995967    0.000026\n",
      "25%     69.832233    0.999158    0.000084\n",
      "50%     72.080414    0.999558    0.000176\n",
      "75%     73.665708    0.999743    0.000279\n",
      "max     82.066901    0.999957    0.001637\n"
     ]
    }
   ],
   "source": [
    "res = results.T\n",
    "print(res.describe())\n",
    "\n",
    "# results = pd.DataFrame(results.T)\n",
    "# print(results[['PSNR', 'SSIM', 'LPIPS']].mean())"
   ]
  },
  {
   "cell_type": "code",
   "execution_count": null,
   "id": "0450546f",
   "metadata": {},
   "outputs": [],
   "source": []
  }
 ],
 "metadata": {
  "kernelspec": {
   "display_name": "ML_Ops",
   "language": "python",
   "name": "python3"
  },
  "language_info": {
   "codemirror_mode": {
    "name": "ipython",
    "version": 3
   },
   "file_extension": ".py",
   "mimetype": "text/x-python",
   "name": "python",
   "nbconvert_exporter": "python",
   "pygments_lexer": "ipython3",
   "version": "3.12.9"
  }
 },
 "nbformat": 4,
 "nbformat_minor": 5
}
